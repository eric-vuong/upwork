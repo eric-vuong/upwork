{
 "cells": [
  {
   "cell_type": "markdown",
   "id": "b0db1cdc-a87a-42a1-afb3-93ed60fde306",
   "metadata": {},
   "source": [
    "#### Query data using sql and pandas"
   ]
  },
  {
   "cell_type": "code",
   "execution_count": null,
   "id": "cb8de179-22f9-4881-95f1-34c56008364d",
   "metadata": {},
   "outputs": [],
   "source": [
    "# Import libraries\n",
    "import sqlite3 as sql\n",
    "import pandas as pd\n",
    "\n",
    "# Get data\n",
    "csv = pd.read_csv(\"upwork-jobs.csv\")\n",
    "connection = sql.connect(\"upwork.db\")\n",
    "try:\n",
    "    csv.to_sql('jobs', connection)\n",
    "except:\n",
    "    None"
   ]
  },
  {
   "cell_type": "code",
   "execution_count": null,
   "id": "9894c0bd-7a90-4046-a1f8-b14c016e4249",
   "metadata": {},
   "outputs": [],
   "source": [
    "pd.read_sql('SELECT * FROM jobs', connection)"
   ]
  },
  {
   "cell_type": "code",
   "execution_count": null,
   "id": "54bed232-1081-43e7-b804-40ad06b355b4",
   "metadata": {},
   "outputs": [],
   "source": [
    "# Remove NaN values for minimum low\n",
    "cursor = connection.cursor()\n",
    "cursor.execute(\"update jobs set hourly_low = 0 where hourly_low is null;\")"
   ]
  },
  {
   "cell_type": "code",
   "execution_count": null,
   "id": "62aaa079-84c5-4a79-8400-ac6be78d8679",
   "metadata": {},
   "outputs": [],
   "source": [
    "# Get 10 highest paying jobs in Canada or the US\n",
    "pd.read_sql('SELECT title, description, hourly_low, hourly_high, country FROM jobs where (country = \"Canada\") or (country = \"United States\") and is_hourly is true order by hourly_high desc limit 10', connection)"
   ]
  },
  {
   "cell_type": "code",
   "execution_count": null,
   "id": "bda99092-e58b-4dd1-8f4b-8af6c110a94a",
   "metadata": {},
   "outputs": [],
   "source": [
    "# Get 10 jobs in Canada or the US with the highest minimum pay\n",
    "pd.read_sql('SELECT title, description, hourly_low, hourly_high, country FROM jobs where (country = \"Canada\") or (country = \"United States\") and is_hourly is true order by hourly_low desc limit 10', connection)"
   ]
  },
  {
   "cell_type": "code",
   "execution_count": null,
   "id": "d83058d5-29f4-4c69-b4be-7d6c140b90f7",
   "metadata": {},
   "outputs": [],
   "source": [
    "# Get the lowest paying jobs\n",
    "pd.read_sql('SELECT title, description, hourly_low, hourly_high, country FROM jobs where is_hourly is true order by hourly_low, hourly_high limit 10', connection)"
   ]
  },
  {
   "cell_type": "code",
   "execution_count": null,
   "id": "7c8f3245-e923-4288-acf3-f28e4fdac3bc",
   "metadata": {},
   "outputs": [],
   "source": [
    "# Average low wage by country\n",
    "pd.read_sql('select count(hourly_low) as job_count, avg(hourly_low), country from jobs where is_hourly = true group by country order by avg(hourly_low) desc', connection)"
   ]
  },
  {
   "cell_type": "code",
   "execution_count": null,
   "id": "0376ebb8-51d7-4bd9-b4db-e35b918de787",
   "metadata": {},
   "outputs": [],
   "source": [
    "# Number of jobs per country and average wage\n",
    "pd.read_sql('select job_count, avg_wage, country from (select count(hourly_low) as job_count, avg(hourly_low) as avg_wage, country from jobs where is_hourly = true group by country) where job_count > 100 order by job_count desc', connection)"
   ]
  },
  {
   "cell_type": "code",
   "execution_count": null,
   "id": "aec4126e-c53a-47dc-b195-b3e906de5269",
   "metadata": {},
   "outputs": [],
   "source": [
    "connection.close()"
   ]
  }
 ],
 "metadata": {
  "kernelspec": {
   "display_name": "Python 3",
   "language": "python",
   "name": "python3"
  },
  "language_info": {
   "codemirror_mode": {
    "name": "ipython",
    "version": 3
   },
   "file_extension": ".py",
   "mimetype": "text/x-python",
   "name": "python",
   "nbconvert_exporter": "python",
   "pygments_lexer": "ipython3",
   "version": "3.8.8"
  }
 },
 "nbformat": 4,
 "nbformat_minor": 5
}
